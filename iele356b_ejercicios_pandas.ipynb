{
 "cells": [
  {
   "cell_type": "markdown",
   "id": "0cc65638-4e77-494d-b008-268b661b072f",
   "metadata": {},
   "source": [
    "# Ejercicios con `pandas`"
   ]
  },
  {
   "cell_type": "markdown",
   "id": "b2c168cc-2d51-4b81-ab2f-571a794855da",
   "metadata": {},
   "source": [
    "Importe las librerías necesarias:"
   ]
  },
  {
   "cell_type": "code",
   "execution_count": 2,
   "id": "316b5ae8-6f04-4e88-8f12-9b73bb87ddb4",
   "metadata": {},
   "outputs": [],
   "source": [
    "import pandas as pd"
   ]
  },
  {
   "cell_type": "markdown",
   "id": "5a67a6f0-549e-492e-b6b0-e96f992c85b9",
   "metadata": {},
   "source": [
    "Imprima las versiones de todas la librerías"
   ]
  },
  {
   "cell_type": "code",
   "execution_count": 3,
   "id": "a5ee9a84-80c4-453a-89c3-51f2d92adb16",
   "metadata": {},
   "outputs": [
    {
     "data": {
      "text/plain": [
       "'1.2.4'"
      ]
     },
     "execution_count": 3,
     "metadata": {},
     "output_type": "execute_result"
    }
   ],
   "source": [
    "pd.__version__"
   ]
  },
  {
   "cell_type": "markdown",
   "id": "a3d95a52-df37-430f-8fec-967855d35078",
   "metadata": {},
   "source": [
    "Importe los datos desde [aqui](https://raw.githubusercontent.com/justmarkham/DAT8/master/data/chipotle.tsv). Asígnelos a una variable `chipo`."
   ]
  },
  {
   "cell_type": "code",
   "execution_count": 4,
   "id": "6ee653af-fa3f-4d77-aed8-41a09e47577f",
   "metadata": {},
   "outputs": [],
   "source": [
    "#Obttuve ayuda de 'https://www.kite.com/python/answers/how-load-a-.tsv-file-into-pandas-dataframe'\n",
    "chipo = pd.read_csv('https://raw.githubusercontent.com/justmarkham/DAT8/master/data/chipotle.tsv', sep = '\\t')"
   ]
  },
  {
   "cell_type": "markdown",
   "id": "b9928db5-69a3-40a7-86b1-8fc125533b69",
   "metadata": {},
   "source": [
    "Muestre las primeras 10 entradas del dataframe"
   ]
  },
  {
   "cell_type": "code",
   "execution_count": 5,
   "id": "64f82ddc-553a-4e2b-89cf-d4a6bcc84d72",
   "metadata": {},
   "outputs": [
    {
     "data": {
      "text/html": [
       "<div>\n",
       "<style scoped>\n",
       "    .dataframe tbody tr th:only-of-type {\n",
       "        vertical-align: middle;\n",
       "    }\n",
       "\n",
       "    .dataframe tbody tr th {\n",
       "        vertical-align: top;\n",
       "    }\n",
       "\n",
       "    .dataframe thead th {\n",
       "        text-align: right;\n",
       "    }\n",
       "</style>\n",
       "<table border=\"1\" class=\"dataframe\">\n",
       "  <thead>\n",
       "    <tr style=\"text-align: right;\">\n",
       "      <th></th>\n",
       "      <th>order_id</th>\n",
       "      <th>quantity</th>\n",
       "      <th>item_name</th>\n",
       "      <th>choice_description</th>\n",
       "      <th>item_price</th>\n",
       "    </tr>\n",
       "  </thead>\n",
       "  <tbody>\n",
       "    <tr>\n",
       "      <th>0</th>\n",
       "      <td>1</td>\n",
       "      <td>1</td>\n",
       "      <td>Chips and Fresh Tomato Salsa</td>\n",
       "      <td>NaN</td>\n",
       "      <td>$2.39</td>\n",
       "    </tr>\n",
       "    <tr>\n",
       "      <th>1</th>\n",
       "      <td>1</td>\n",
       "      <td>1</td>\n",
       "      <td>Izze</td>\n",
       "      <td>[Clementine]</td>\n",
       "      <td>$3.39</td>\n",
       "    </tr>\n",
       "    <tr>\n",
       "      <th>2</th>\n",
       "      <td>1</td>\n",
       "      <td>1</td>\n",
       "      <td>Nantucket Nectar</td>\n",
       "      <td>[Apple]</td>\n",
       "      <td>$3.39</td>\n",
       "    </tr>\n",
       "    <tr>\n",
       "      <th>3</th>\n",
       "      <td>1</td>\n",
       "      <td>1</td>\n",
       "      <td>Chips and Tomatillo-Green Chili Salsa</td>\n",
       "      <td>NaN</td>\n",
       "      <td>$2.39</td>\n",
       "    </tr>\n",
       "    <tr>\n",
       "      <th>4</th>\n",
       "      <td>2</td>\n",
       "      <td>2</td>\n",
       "      <td>Chicken Bowl</td>\n",
       "      <td>[Tomatillo-Red Chili Salsa (Hot), [Black Beans...</td>\n",
       "      <td>$16.98</td>\n",
       "    </tr>\n",
       "    <tr>\n",
       "      <th>5</th>\n",
       "      <td>3</td>\n",
       "      <td>1</td>\n",
       "      <td>Chicken Bowl</td>\n",
       "      <td>[Fresh Tomato Salsa (Mild), [Rice, Cheese, Sou...</td>\n",
       "      <td>$10.98</td>\n",
       "    </tr>\n",
       "    <tr>\n",
       "      <th>6</th>\n",
       "      <td>3</td>\n",
       "      <td>1</td>\n",
       "      <td>Side of Chips</td>\n",
       "      <td>NaN</td>\n",
       "      <td>$1.69</td>\n",
       "    </tr>\n",
       "    <tr>\n",
       "      <th>7</th>\n",
       "      <td>4</td>\n",
       "      <td>1</td>\n",
       "      <td>Steak Burrito</td>\n",
       "      <td>[Tomatillo Red Chili Salsa, [Fajita Vegetables...</td>\n",
       "      <td>$11.75</td>\n",
       "    </tr>\n",
       "    <tr>\n",
       "      <th>8</th>\n",
       "      <td>4</td>\n",
       "      <td>1</td>\n",
       "      <td>Steak Soft Tacos</td>\n",
       "      <td>[Tomatillo Green Chili Salsa, [Pinto Beans, Ch...</td>\n",
       "      <td>$9.25</td>\n",
       "    </tr>\n",
       "    <tr>\n",
       "      <th>9</th>\n",
       "      <td>5</td>\n",
       "      <td>1</td>\n",
       "      <td>Steak Burrito</td>\n",
       "      <td>[Fresh Tomato Salsa, [Rice, Black Beans, Pinto...</td>\n",
       "      <td>$9.25</td>\n",
       "    </tr>\n",
       "  </tbody>\n",
       "</table>\n",
       "</div>"
      ],
      "text/plain": [
       "   order_id  quantity                              item_name  \\\n",
       "0         1         1           Chips and Fresh Tomato Salsa   \n",
       "1         1         1                                   Izze   \n",
       "2         1         1                       Nantucket Nectar   \n",
       "3         1         1  Chips and Tomatillo-Green Chili Salsa   \n",
       "4         2         2                           Chicken Bowl   \n",
       "5         3         1                           Chicken Bowl   \n",
       "6         3         1                          Side of Chips   \n",
       "7         4         1                          Steak Burrito   \n",
       "8         4         1                       Steak Soft Tacos   \n",
       "9         5         1                          Steak Burrito   \n",
       "\n",
       "                                  choice_description item_price  \n",
       "0                                                NaN     $2.39   \n",
       "1                                       [Clementine]     $3.39   \n",
       "2                                            [Apple]     $3.39   \n",
       "3                                                NaN     $2.39   \n",
       "4  [Tomatillo-Red Chili Salsa (Hot), [Black Beans...    $16.98   \n",
       "5  [Fresh Tomato Salsa (Mild), [Rice, Cheese, Sou...    $10.98   \n",
       "6                                                NaN     $1.69   \n",
       "7  [Tomatillo Red Chili Salsa, [Fajita Vegetables...    $11.75   \n",
       "8  [Tomatillo Green Chili Salsa, [Pinto Beans, Ch...     $9.25   \n",
       "9  [Fresh Tomato Salsa, [Rice, Black Beans, Pinto...     $9.25   "
      ]
     },
     "execution_count": 5,
     "metadata": {},
     "output_type": "execute_result"
    }
   ],
   "source": [
    "chipo.head(10)"
   ]
  },
  {
   "cell_type": "markdown",
   "id": "8880194c-9a89-4ee9-ba08-9d589390c27a",
   "metadata": {},
   "source": [
    "Cual es el número total de observaciones en el dataset?"
   ]
  },
  {
   "cell_type": "code",
   "execution_count": 6,
   "id": "84d4d9d6-21e6-4a64-81e4-0c0e590ff11c",
   "metadata": {},
   "outputs": [
    {
     "data": {
      "text/plain": [
       "order_id              4622\n",
       "quantity              4622\n",
       "item_name             4622\n",
       "choice_description    3376\n",
       "item_price            4622\n",
       "dtype: int64"
      ]
     },
     "execution_count": 6,
     "metadata": {},
     "output_type": "execute_result"
    }
   ],
   "source": [
    "#El numero de observacioens en el dataset es de 4622.\n",
    "chipo.count()"
   ]
  },
  {
   "cell_type": "code",
   "execution_count": 7,
   "id": "8fbecd4e-1fd4-4ef3-86b0-c93f5df15c62",
   "metadata": {},
   "outputs": [
    {
     "name": "stdout",
     "output_type": "stream",
     "text": [
      "4622\n"
     ]
    }
   ],
   "source": [
    "#El numeri de observaciones son 4622\n",
    "print(len(chipo))"
   ]
  },
  {
   "cell_type": "markdown",
   "id": "207b9931-613f-4789-bbd9-f87ca17846c6",
   "metadata": {},
   "source": [
    "Cuantas columnas hay en el dataset? Copielas a una lista."
   ]
  },
  {
   "cell_type": "code",
   "execution_count": 8,
   "id": "75f02dc2-8f90-4098-832e-418be26e84bc",
   "metadata": {},
   "outputs": [
    {
     "name": "stdout",
     "output_type": "stream",
     "text": [
      "5\n"
     ]
    }
   ],
   "source": [
    "#El dataset contiene 5 columnas\n",
    "print(len(chipo.columns))"
   ]
  },
  {
   "cell_type": "markdown",
   "id": "f6899ae6-3ea3-4499-a71b-dae43dcfdc5a",
   "metadata": {},
   "source": [
    "Imprima el nombre de las columnas"
   ]
  },
  {
   "cell_type": "code",
   "execution_count": 9,
   "id": "8db741ce-92cf-4ba8-9cae-243005555df0",
   "metadata": {},
   "outputs": [
    {
     "data": {
      "text/plain": [
       "Index(['order_id', 'quantity', 'item_name', 'choice_description',\n",
       "       'item_price'],\n",
       "      dtype='object')"
      ]
     },
     "execution_count": 9,
     "metadata": {},
     "output_type": "execute_result"
    }
   ],
   "source": [
    "chipo.columns"
   ]
  },
  {
   "cell_type": "markdown",
   "id": "2dcdc014-5ad6-4317-96c8-9a45ca3db892",
   "metadata": {},
   "source": [
    "Como está indexado el dataset?"
   ]
  },
  {
   "cell_type": "code",
   "execution_count": 10,
   "id": "14fc8471-3db4-41e6-bb9b-1cef14063fa1",
   "metadata": {},
   "outputs": [
    {
     "name": "stdout",
     "output_type": "stream",
     "text": [
      "<class 'pandas.core.frame.DataFrame'>\n",
      "RangeIndex: 4622 entries, 0 to 4621\n",
      "Data columns (total 5 columns):\n",
      " #   Column              Non-Null Count  Dtype \n",
      "---  ------              --------------  ----- \n",
      " 0   order_id            4622 non-null   int64 \n",
      " 1   quantity            4622 non-null   int64 \n",
      " 2   item_name           4622 non-null   object\n",
      " 3   choice_description  3376 non-null   object\n",
      " 4   item_price          4622 non-null   object\n",
      "dtypes: int64(2), object(3)\n",
      "memory usage: 180.7+ KB\n"
     ]
    }
   ],
   "source": [
    "chipo.info()"
   ]
  },
  {
   "cell_type": "markdown",
   "id": "7863030c-87ca-447d-9110-804e22217e76",
   "metadata": {},
   "source": [
    "Cual fue el objeto más pedido?"
   ]
  },
  {
   "cell_type": "code",
   "execution_count": 11,
   "id": "399c4adb-6cf1-4e45-8edf-c6a903f22f42",
   "metadata": {},
   "outputs": [
    {
     "data": {
      "text/plain": [
       "item_name\n",
       "Chicken Bowl    761\n",
       "Name: quantity, dtype: int64"
      ]
     },
     "execution_count": 11,
     "metadata": {},
     "output_type": "execute_result"
    }
   ],
   "source": [
    "#Chiken Bowl\n",
    "chipo.groupby('item_name').quantity.sum()[chipo.groupby('item_name').quantity.sum() == chipo.groupby('item_name').quantity.sum().max()]"
   ]
  },
  {
   "cell_type": "markdown",
   "id": "6b0fe41b-50cb-49a8-b5bc-0f6e877ef9a6",
   "metadata": {},
   "source": [
    "Para el objeto más pedido, cuantos fueron?"
   ]
  },
  {
   "cell_type": "code",
   "execution_count": 13,
   "id": "a30cfe35-54b9-4405-a012-af1dc8cb3355",
   "metadata": {},
   "outputs": [
    {
     "name": "stdout",
     "output_type": "stream",
     "text": [
      "Fueron pedidos 761 unidades\n"
     ]
    }
   ],
   "source": [
    "print('Fueron pedidos',chipo.groupby('item_name').quantity.sum().max(),'unidades')"
   ]
  },
  {
   "cell_type": "markdown",
   "id": "b0662a0f-f1e8-4d8d-ac33-6b5f1e2fb022",
   "metadata": {},
   "source": [
    "Cual fue el item más pedido en la columna `choice_description`?"
   ]
  },
  {
   "cell_type": "code",
   "execution_count": 17,
   "id": "b7efdbf3-5e16-4a7e-809c-a6ac23abb64f",
   "metadata": {},
   "outputs": [
    {
     "data": {
      "text/plain": [
       "[Diet Coke]                                                                                                                                                                                      134\n",
       "[Coke]                                                                                                                                                                                           123\n",
       "[Sprite]                                                                                                                                                                                          77\n",
       "[Fresh Tomato Salsa, [Rice, Black Beans, Cheese, Sour Cream, Lettuce]]                                                                                                                            42\n",
       "[Fresh Tomato Salsa, [Rice, Black Beans, Cheese, Sour Cream, Guacamole, Lettuce]]                                                                                                                 40\n",
       "                                                                                                                                                                                                ... \n",
       "[Adobo-Marinated and Grilled Steak, [Sour Cream, Salsa, Cheese, Cilantro-Lime Rice, Guacamole]]                                                                                                    1\n",
       "[[Fresh Tomato Salsa (Mild), Tomatillo-Green Chili Salsa (Medium), Roasted Chili Corn Salsa (Medium), Tomatillo-Red Chili Salsa (Hot)], [Pinto Beans, Black Beans, Rice, Cheese, Sour Cream]]      1\n",
       "[[Roasted Chili Corn Salsa (Medium), Tomatillo-Green Chili Salsa (Medium)], [Rice, Black Beans, Pinto Beans, Fajita Veggies, Cheese, Sour Cream, Lettuce]]                                         1\n",
       "[Fresh Tomato Salsa (Mild), [Rice, Fajita Veggies, Cheese, Sour Cream, Guacamole]]                                                                                                                 1\n",
       "[Tomatillo-Red Chili Salsa (Hot), [Cheese, Lettuce]]                                                                                                                                               1\n",
       "Name: choice_description, Length: 1043, dtype: int64"
      ]
     },
     "execution_count": 17,
     "metadata": {},
     "output_type": "execute_result"
    }
   ],
   "source": [
    "#Diet Coke\n",
    "chipo.choice_description.value_counts()"
   ]
  },
  {
   "cell_type": "markdown",
   "id": "355aaf02-11ba-4381-b416-bd2b33e9dd60",
   "metadata": {},
   "source": [
    "Cuantos items fueron pedidos en total?"
   ]
  },
  {
   "cell_type": "code",
   "execution_count": 176,
   "id": "4654034f-95cd-4b25-a504-b142827848a1",
   "metadata": {},
   "outputs": [
    {
     "data": {
      "text/plain": [
       "4972"
      ]
     },
     "execution_count": 176,
     "metadata": {},
     "output_type": "execute_result"
    }
   ],
   "source": [
    "chipo.quantity.sum()"
   ]
  },
  {
   "cell_type": "markdown",
   "id": "df74689a-e7d7-44eb-babc-7e789cece1f1",
   "metadata": {},
   "source": [
    "Convierte el precio en un `float`"
   ]
  },
  {
   "cell_type": "code",
   "execution_count": 177,
   "id": "9a380dd0-b1e4-43c5-9e7c-70a6c292a4f1",
   "metadata": {},
   "outputs": [
    {
     "name": "stderr",
     "output_type": "stream",
     "text": [
      "<ipython-input-177-6ed771b6d87c>:1: FutureWarning: The default value of regex will change from True to False in a future version. In addition, single character regular expressions will*not* be treated as literal strings when regex=True.\n",
      "  chipo['item_price'] = chipo['item_price'].str.replace('$','').astype(float)\n"
     ]
    }
   ],
   "source": [
    "chipo['item_price'] = chipo['item_price'].str.replace('$','').astype(float)"
   ]
  },
  {
   "cell_type": "code",
   "execution_count": 179,
   "id": "0d7bb87a-67c2-4226-930b-6aff9784e505",
   "metadata": {},
   "outputs": [
    {
     "name": "stdout",
     "output_type": "stream",
     "text": [
      "<class 'pandas.core.frame.DataFrame'>\n",
      "RangeIndex: 4622 entries, 0 to 4621\n",
      "Data columns (total 5 columns):\n",
      " #   Column              Non-Null Count  Dtype  \n",
      "---  ------              --------------  -----  \n",
      " 0   order_id            4622 non-null   int64  \n",
      " 1   quantity            4622 non-null   int64  \n",
      " 2   item_name           4622 non-null   object \n",
      " 3   choice_description  3376 non-null   object \n",
      " 4   item_price          4622 non-null   float64\n",
      "dtypes: float64(1), int64(2), object(2)\n",
      "memory usage: 180.7+ KB\n"
     ]
    }
   ],
   "source": [
    "chipo.info()"
   ]
  },
  {
   "cell_type": "markdown",
   "id": "aaaae853-d767-4629-a761-f7c712e21ec5",
   "metadata": {},
   "source": [
    "Cuanto fue la ganancia total en el periodo del dataset?"
   ]
  },
  {
   "cell_type": "code",
   "execution_count": 161,
   "id": "e7e91772-e27a-4ccd-843b-8f54051bcfe6",
   "metadata": {},
   "outputs": [
    {
     "name": "stdout",
     "output_type": "stream",
     "text": [
      "La gancia total fue de $ 34500.16\n"
     ]
    }
   ],
   "source": [
    "print('La gancia total fue de $',chipo.item_price.sum())"
   ]
  },
  {
   "cell_type": "markdown",
   "id": "73651676-6c02-4fdb-b1b3-c0cec875f5e1",
   "metadata": {},
   "source": [
    "Cúantos pedidos se hicieron?"
   ]
  },
  {
   "cell_type": "code",
   "execution_count": 160,
   "id": "12df2ecc-fd4c-46f2-be1a-701706f86271",
   "metadata": {},
   "outputs": [
    {
     "name": "stdout",
     "output_type": "stream",
     "text": [
      "Se realizaron 1834 pedidos\n"
     ]
    }
   ],
   "source": [
    "id_agrupados = chipo.groupby(['order_id'])\n",
    "print('Se realizaron',len(id_agrupados),'pedidos')"
   ]
  },
  {
   "cell_type": "markdown",
   "id": "24817318-80d7-4b91-9ef0-cb780a265fd8",
   "metadata": {},
   "source": [
    "Cual fue el promedio de ganancia por orden?"
   ]
  },
  {
   "cell_type": "code",
   "execution_count": 159,
   "id": "53d5d757-9e7c-4ea5-a397-d93d632d021b",
   "metadata": {},
   "outputs": [
    {
     "name": "stdout",
     "output_type": "stream",
     "text": [
      "El promedio de ganancia por orden fue de $ 18.81\n"
     ]
    }
   ],
   "source": [
    "ticket_prom = chipo.item_price.sum()/len(id_agrupados)\n",
    "print(\"El promedio de ganancia por orden fue de $\",round(ticket_prom,2))"
   ]
  },
  {
   "cell_type": "markdown",
   "id": "037d2419-f2f0-4fbe-9b5e-c2bae8fb6783",
   "metadata": {},
   "source": [
    "Cuántos items se vendieron en total?"
   ]
  },
  {
   "cell_type": "code",
   "execution_count": 16,
   "id": "5c5f386b-d3e3-4f1e-8e2e-a09102d7188d",
   "metadata": {},
   "outputs": [
    {
     "name": "stdout",
     "output_type": "stream",
     "text": [
      "Se vendieron 3376 Items\n"
     ]
    }
   ],
   "source": [
    "print('Se vendieron', chipo.choice_description.count(),'Items')"
   ]
  }
 ],
 "metadata": {
  "kernelspec": {
   "display_name": "Python 3",
   "language": "python",
   "name": "python3"
  },
  "language_info": {
   "codemirror_mode": {
    "name": "ipython",
    "version": 3
   },
   "file_extension": ".py",
   "mimetype": "text/x-python",
   "name": "python",
   "nbconvert_exporter": "python",
   "pygments_lexer": "ipython3",
   "version": "3.8.8"
  }
 },
 "nbformat": 4,
 "nbformat_minor": 5
}
